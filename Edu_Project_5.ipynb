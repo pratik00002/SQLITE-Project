{
 "cells": [
  {
   "cell_type": "code",
   "execution_count": 1,
   "id": "42a4cac5",
   "metadata": {},
   "outputs": [],
   "source": [
    "import sqlite3"
   ]
  },
  {
   "cell_type": "code",
   "execution_count": 12,
   "id": "33277e9c",
   "metadata": {},
   "outputs": [],
   "source": [
    "conn = sqlite3.connect('ages.sqlite')\n",
    "cur = conn.cursor()"
   ]
  },
  {
   "cell_type": "code",
   "execution_count": 13,
   "id": "9b013dfb",
   "metadata": {},
   "outputs": [
    {
     "data": {
      "text/plain": [
       "<sqlite3.Cursor at 0x24e2653bf10>"
      ]
     },
     "execution_count": 13,
     "metadata": {},
     "output_type": "execute_result"
    }
   ],
   "source": [
    "cur.execute('''\n",
    "CREATE TABLE IF NOT EXISTS Ages (\n",
    "  name VARCHAR(128),\n",
    "  age INTEGER\n",
    ")''')"
   ]
  },
  {
   "cell_type": "code",
   "execution_count": 14,
   "id": "e1def6a4",
   "metadata": {},
   "outputs": [
    {
     "data": {
      "text/plain": [
       "<sqlite3.Cursor at 0x24e2653bf10>"
      ]
     },
     "execution_count": 14,
     "metadata": {},
     "output_type": "execute_result"
    }
   ],
   "source": [
    "cur.execute('DELETE FROM Ages')"
   ]
  },
  {
   "cell_type": "code",
   "execution_count": 15,
   "id": "977db70a",
   "metadata": {},
   "outputs": [
    {
     "data": {
      "text/plain": [
       "<sqlite3.Cursor at 0x24e2653bf10>"
      ]
     },
     "execution_count": 15,
     "metadata": {},
     "output_type": "execute_result"
    }
   ],
   "source": [
    "cur.execute('INSERT INTO Ages (name, age) VALUES (?, ?)', ('Mara', 28))\n",
    "cur.execute('INSERT INTO Ages (name, age) VALUES (?, ?)', ('Otto', 33))\n",
    "cur.execute('INSERT INTO Ages (name, age) VALUES (?, ?)', ('Fyn', 31))\n",
    "cur.execute('INSERT INTO Ages (name, age) VALUES (?, ?)', ('Neshawn', 17))"
   ]
  },
  {
   "cell_type": "code",
   "execution_count": 16,
   "id": "b9d1adb0",
   "metadata": {},
   "outputs": [
    {
     "data": {
      "text/plain": [
       "<sqlite3.Cursor at 0x24e2653bf10>"
      ]
     },
     "execution_count": 16,
     "metadata": {},
     "output_type": "execute_result"
    }
   ],
   "source": [
    "cur.execute('SELECT hex(name || age) AS X FROM Ages ORDER BY X')"
   ]
  },
  {
   "cell_type": "code",
   "execution_count": 17,
   "id": "b1f6de43",
   "metadata": {},
   "outputs": [],
   "source": [
    "rows = cur.fetchall()"
   ]
  },
  {
   "cell_type": "code",
   "execution_count": 18,
   "id": "c26a1c0a",
   "metadata": {},
   "outputs": [
    {
     "name": "stdout",
     "output_type": "stream",
     "text": [
      "The first row in the resulting record set: 46796E3331\n"
     ]
    }
   ],
   "source": [
    "if len(rows) > 0:\n",
    "    first_row = rows[0][0]\n",
    "    print(\"The first row in the resulting record set:\", first_row)"
   ]
  },
  {
   "cell_type": "code",
   "execution_count": 9,
   "id": "eaedd2a4",
   "metadata": {},
   "outputs": [],
   "source": [
    "cur.close()\n",
    "conn.close()"
   ]
  },
  {
   "cell_type": "code",
   "execution_count": null,
   "id": "a06f0634",
   "metadata": {},
   "outputs": [],
   "source": []
  }
 ],
 "metadata": {
  "kernelspec": {
   "display_name": "Python 3 (ipykernel)",
   "language": "python",
   "name": "python3"
  },
  "language_info": {
   "codemirror_mode": {
    "name": "ipython",
    "version": 3
   },
   "file_extension": ".py",
   "mimetype": "text/x-python",
   "name": "python",
   "nbconvert_exporter": "python",
   "pygments_lexer": "ipython3",
   "version": "3.8.12"
  }
 },
 "nbformat": 4,
 "nbformat_minor": 5
}
